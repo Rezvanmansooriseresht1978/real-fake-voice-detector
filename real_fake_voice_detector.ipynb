{
 "cells": [
  {
   "cell_type": "markdown",
   "id": "5d11fdf6",
   "metadata": {},
   "source": [
    "# real-fake-voice-detector\n\nThis notebook contains a readable version of the training script and instructions to run it.\n"
   ]
  },
  {
   "cell_type": "code",
   "execution_count": null,
   "id": "59b2db03",
   "metadata": {},
   "outputs": [],
   "source": [
    "from IPython.display import Markdown, display\n\ndisplay(Markdown('Run the `src/train.py` script from the command line. Example command:'))\n\ndisplay(Markdown('''\n```\npython src/train.py --real_dir \"/path/to/REAL\" --fake_dir \"/path/to/FAKE\" --output_dir \"./output\" --epochs 20\n```\n'''))\n"
   ]
  }
 ],
 "metadata": {
  "kernelspec": {
   "display_name": "Python 3",
   "language": "python",
   "name": "python3"
  },
  "language_info": {
   "name": "python",
   "version": "3.8"
  }
 },
 "nbformat": 4,
 "nbformat_minor": 5
}
